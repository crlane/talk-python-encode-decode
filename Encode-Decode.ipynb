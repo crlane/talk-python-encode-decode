{
 "cells": [
  {
   "cell_type": "code",
   "execution_count": 15,
   "metadata": {
    "collapsed": true
   },
   "outputs": [],
   "source": [
    "def encode(s, buff=None, count=1):\n",
    "    if buff is None:\n",
    "        buff = []\n",
    "    if not s:\n",
    "        return ''.join(buff)\n",
    "    else:\n",
    "        c = s[0]\n",
    "        if buff:\n",
    "            if c == buff[-1]:\n",
    "                return encode(s[1:], buff, count + 1)\n",
    "            else:\n",
    "                return encode(s[1:], buff + [c, str(count)], 1)"
   ]
  },
  {
   "cell_type": "code",
   "execution_count": 16,
   "metadata": {
    "collapsed": false
   },
   "outputs": [],
   "source": [
    "encode('aaabbbccc')"
   ]
  },
  {
   "cell_type": "code",
   "execution_count": null,
   "metadata": {
    "collapsed": true
   },
   "outputs": [],
   "source": []
  }
 ],
 "metadata": {
  "kernelspec": {
   "display_name": "Python 2",
   "language": "python",
   "name": "python2"
  },
  "language_info": {
   "codemirror_mode": {
    "name": "ipython",
    "version": 2
   },
   "file_extension": ".py",
   "mimetype": "text/x-python",
   "name": "python",
   "nbconvert_exporter": "python",
   "pygments_lexer": "ipython2",
   "version": "2.7.10"
  }
 },
 "nbformat": 4,
 "nbformat_minor": 0
}
